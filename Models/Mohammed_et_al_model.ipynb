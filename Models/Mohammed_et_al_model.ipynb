{
  "nbformat": 4,
  "nbformat_minor": 0,
  "metadata": {
    "colab": {
      "name": "Mohammed et al. model.ipynb",
      "provenance": [],
      "collapsed_sections": []
    },
    "kernelspec": {
      "name": "python3",
      "display_name": "Python 3"
    },
    "language_info": {
      "name": "python"
    }
  },
  "cells": [
    {
      "cell_type": "code",
      "execution_count": null,
      "metadata": {
        "id": "or58Ol6Ohg-Z"
      },
      "outputs": [],
      "source": [
        "print(\"Hello DenseNet121\")"
      ]
    },
    {
      "cell_type": "code",
      "source": [
        "from google.colab import drive\n",
        "drive.mount('/content/gdrive')"
      ],
      "metadata": {
        "id": "GCdlVuysuLR0"
      },
      "execution_count": null,
      "outputs": []
    },
    {
      "cell_type": "code",
      "source": [
        "!ls \"/content/gdrive/My Drive/DataSet\""
      ],
      "metadata": {
        "id": "RLYJXY6RuLi9"
      },
      "execution_count": null,
      "outputs": []
    },
    {
      "cell_type": "code",
      "source": [
        "import os\n",
        "import glob\n",
        "import h5py\n",
        "import shutil\n",
        "import imgaug as aug\n",
        "import numpy as np # linear algebra\n",
        "import pandas as pd # data processing, CSV file I/O (e.g. pd.read_csv)\n",
        "import seaborn as sns\n",
        "import matplotlib.pyplot as plt\n",
        "import matplotlib.image as mimg\n",
        "import imgaug.augmenters as iaa\n",
        "from os import listdir, makedirs, getcwd, remove\n",
        "from os.path import isfile, join, abspath, exists, isdir, expanduser\n",
        "from PIL import Image\n",
        "from pathlib import Path\n",
        "from skimage.io import imread\n",
        "from skimage.transform import resize\n",
        "from keras.models import Sequential, Model\n",
        "from keras.applications.vgg16 import VGG16, preprocess_input\n",
        "from keras.preprocessing.image import ImageDataGenerator,load_img, img_to_array\n",
        "from keras.models import Sequential\n",
        "from keras.layers import Conv2D, MaxPooling2D, Dense, Dropout, Input, Flatten, SeparableConv2D\n",
        "from keras.layers import GlobalMaxPooling2D\n",
        "from tensorflow.keras.layers import BatchNormalization\n",
        "from keras.layers.merge import Concatenate\n",
        "from keras.models import Model\n",
        "from tensorflow.keras.optimizers import Adam, SGD, RMSprop\n",
        "from keras.callbacks import ModelCheckpoint, Callback, EarlyStopping\n",
        "from tensorflow.keras.utils import to_categorical\n",
        "from sklearn.model_selection import train_test_split\n",
        "from sklearn.preprocessing import StandardScaler\n",
        "from mlxtend.plotting import plot_confusion_matrix\n",
        "from sklearn.metrics import confusion_matrix\n",
        "import cv2\n",
        "from keras import backend as K\n",
        "color = sns.color_palette()\n",
        "\n",
        "import tensorflow as tf\n",
        "%matplotlib inline\n",
        "\n",
        "from keras.models import Sequential\n",
        "from keras.models import model_from_json"
      ],
      "metadata": {
        "id": "9TP2thAHuLvD"
      },
      "execution_count": null,
      "outputs": []
    },
    {
      "cell_type": "code",
      "source": [
        "# Set the seed for hash based operations in python\n",
        "# os.environ['PYTHONHASHSEED'] = '0'\n",
        "\n",
        "# Set the numpy seed\n",
        "# np.random.seed(111)\n",
        "\n",
        "# Disable multi-threading in tensorflow ops\n",
        "# session_conf = tf.ConfigProto(intra_op_parallelism_threads=1, inter_op_parallelism_threads=1)\n",
        "\n",
        "# Set the random seed in tensorflow at graph level\n",
        "# tf.set_random_seed(111)\n",
        "\n",
        "# Define a tensorflow session with above session configs\n",
        "# sess = tf.Session(graph=tf.get_default_graph(), config=session_conf)\n",
        "\n",
        "# Set the session in keras\n",
        "# K.set_session(sess)\n",
        "\n",
        "# Make the augmentation sequence deterministic\n",
        "# aug.seed(111)"
      ],
      "metadata": {
        "id": "3YuJC_Z3uVbb"
      },
      "execution_count": null,
      "outputs": []
    },
    {
      "cell_type": "code",
      "source": [
        "# Define path to the data directory\n",
        "data_dir = Path('/content/gdrive/My Drive/DataSet/combined_chest_pn_covid')\n",
        "\n",
        "# Path to train directory (Fancy pathlib...no more os.path!!)\n",
        "train_dir = data_dir / 'train'\n",
        "\n",
        "# Path to test directory\n",
        "test_dir = data_dir / 'test'\n",
        "\n",
        "# Path to validation directory\n",
        "val_dir = data_dir / 'val'"
      ],
      "metadata": {
        "id": "BP-EZiwbuL3e"
      },
      "execution_count": null,
      "outputs": []
    },
    {
      "cell_type": "code",
      "source": [
        "# Get the path to the normal and pneumonia sub-directories\n",
        "normal_cases_dir = train_dir / 'NORMAL'\n",
        "pneumonia_cases_dir = train_dir / 'PNEUMONIA'\n",
        "COVID_cases_dir = train_dir / 'COVID'\n",
        "\n",
        "print(pneumonia_cases_dir)\n",
        "# Get the list of all the images\n",
        "normal_cases = normal_cases_dir.glob('*.jpeg')\n",
        "pneumonia_cases = pneumonia_cases_dir.glob('*.jpeg')\n",
        "COVID_cases = COVID_cases_dir.glob('*.jpeg')\n",
        "\n",
        "# An empty list. We will insert the data into this list in (img_path, label) format\n",
        "train_data = []\n",
        "\n",
        "# Go through all the normal cases. The label for these cases will be 0\n",
        "for img in normal_cases:\n",
        "    train_data.append((img,0))\n",
        "\n",
        "# Go through all the pneumonia cases. The label for these cases will be 1\n",
        "for img in pneumonia_cases:\n",
        "    train_data.append((img, 1))\n",
        "\n",
        "# Go through all the covid cases. The label for these cases will be 2\n",
        "for img in COVID_cases:\n",
        "    train_data.append((img, 2))\n",
        "\n",
        "# Get a pandas dataframe from the data we have in our list \n",
        "train_data = pd.DataFrame(train_data, columns=['image', 'label'],index=None)\n",
        "\n",
        "# Shuffle the data \n",
        "train_data = train_data.sample(frac=1.).reset_index(drop=True)\n",
        "\n",
        "# How the dataframe looks like?\n",
        "train_data.head()\n",
        "\n",
        "print(np.array(train_data).shape)"
      ],
      "metadata": {
        "id": "MbB36_szuMB2"
      },
      "execution_count": null,
      "outputs": []
    },
    {
      "cell_type": "code",
      "source": [
        "# Get the path to the normal and pneumonia sub-directories\n",
        "valid_normal_cases_dir = val_dir / 'NORMAL'\n",
        "valid_pneumonia_cases_dir = val_dir / 'PNEUMONIA'\n",
        "valid_COVID_cases_dir = val_dir / 'COVID'\n",
        "\n",
        "# Get the list of all the images\n",
        "valid_normal_cases = valid_normal_cases_dir.glob('*.jpeg')\n",
        "valid_pneumonia_cases = valid_pneumonia_cases_dir.glob('*.jpeg')\n",
        "valid_COVID_cases = valid_COVID_cases_dir.glob('*.jpeg')\n",
        "\n",
        "# An empty list. We will insert the data into this list in (img_path, label) format\n",
        "valid_data = []\n",
        "\n",
        "# Go through all the normal cases. The label for these cases will be 0\n",
        "for img in valid_normal_cases:\n",
        "    valid_data.append((img,0))\n",
        "\n",
        "# Go through all the pneumonia cases. The label for these cases will be 1\n",
        "for img in valid_pneumonia_cases:\n",
        "    valid_data.append((img, 1))\n",
        "\n",
        "# Go through all the covid cases. The label for these cases will be 2\n",
        "for img in valid_COVID_cases:\n",
        "    valid_data.append((img, 2))\n",
        "\n",
        "# Get a pandas dataframe from the data we have in our list \n",
        "valid_data = pd.DataFrame(valid_data, columns=['image', 'label'],index=None)\n",
        "\n",
        "# Shuffle the data \n",
        "valid_data = valid_data.sample(frac=1.).reset_index(drop=True)\n",
        "\n",
        "# How the dataframe looks like?\n",
        "valid_data.head()\n",
        "\n",
        "print(np.array(valid_data).shape)\n"
      ],
      "metadata": {
        "id": "5Dz05j3CuMLx"
      },
      "execution_count": null,
      "outputs": []
    },
    {
      "cell_type": "code",
      "source": [
        "# Get the counts for each class\n",
        "cases_count2 = test_data['label'].value_counts()\n",
        "print(cases_count2)\n",
        "\n",
        "# Plot the results \n",
        "plt.figure(figsize=(10,8))\n",
        "sns.barplot(x=cases_count2.index, y= cases_count2.values)\n",
        "plt.title('Number of cases', fontsize=14)\n",
        "plt.xlabel('Case type', fontsize=12)\n",
        "plt.ylabel('Count', fontsize=12)\n",
        "plt.xticks(range(len(cases_count2.index)), ['Normal(0)', 'Pneumonia(1)','Covid(2)'])\n",
        "plt.show()"
      ],
      "metadata": {
        "id": "k_DmMr26uMTC"
      },
      "execution_count": null,
      "outputs": []
    },
    {
      "cell_type": "code",
      "source": [
        "# Get the counts for each class\n",
        "cases_count1 = valid_data['label'].value_counts()\n",
        "print(cases_count1)\n",
        "\n",
        "# Plot the results \n",
        "plt.figure(figsize=(10,8))\n",
        "sns.barplot(x=cases_count1.index, y= cases_count1.values)\n",
        "plt.title('Number of cases', fontsize=14)\n",
        "plt.xlabel('Case type', fontsize=12)\n",
        "plt.ylabel('Count', fontsize=12)\n",
        "plt.xticks(range(len(cases_count1.index)), ['Normal(0)', 'Pneumonia(1)','Covid(2)'])\n",
        "plt.show()"
      ],
      "metadata": {
        "id": "xsvFcAQduMa2"
      },
      "execution_count": null,
      "outputs": []
    },
    {
      "cell_type": "code",
      "source": [
        "# Get the counts for each class\n",
        "cases_count = train_data['label'].value_counts()\n",
        "print(cases_count)\n",
        "\n",
        "# Plot the results \n",
        "plt.figure(figsize=(10,8))\n",
        "sns.barplot(x=cases_count.index, y= cases_count.values)\n",
        "plt.title('Number of cases', fontsize=14)\n",
        "plt.xlabel('Case type', fontsize=12)\n",
        "plt.ylabel('Count', fontsize=12)\n",
        "plt.xticks(range(len(cases_count.index)), ['Normal(0)', 'Pneumonia(1)','Covid(2)'])\n",
        "plt.show()"
      ],
      "metadata": {
        "id": "uiqfkDzzuMih"
      },
      "execution_count": null,
      "outputs": []
    },
    {
      "cell_type": "code",
      "source": [
        "# Get the path to the sub-directories\n",
        "normal_cases_dir = val_dir / 'NORMAL'\n",
        "pneumonia_cases_dir = val_dir / 'PNEUMONIA'\n",
        "COVID_cases_dir = val_dir / 'COVID'\n",
        "\n",
        "# Get the list of all the images\n",
        "normal_cases = normal_cases_dir.glob('*.jpeg')\n",
        "pneumonia_cases = pneumonia_cases_dir.glob('*.jpeg')\n",
        "COVID_cases = COVID_cases_dir.glob('*.jpeg')\n",
        "\n",
        "# List that are going to contain validation images data and the corresponding labels\n",
        "valid_data = []\n",
        "valid_labels = []\n",
        "\n",
        "\n",
        "# Some images are in grayscale while majority of them contains 3 channels. So, if the image is grayscale, we will convert into a image with 3 channels.\n",
        "# We will normalize the pixel values and resizing all the images to 224x224 \n",
        "\n",
        "# Normal cases\n",
        "for img in normal_cases:\n",
        "    img = cv2.imread(str(img))\n",
        "    img = cv2.resize(img, (224,224))\n",
        "    if img.shape[2] ==1:\n",
        "        img = np.dstack([img, img, img])\n",
        "    img = cv2.cvtColor(img, cv2.COLOR_BGR2RGB)\n",
        "    img = img.astype(np.float32)/255.\n",
        "    label = to_categorical(0, num_classes=3)\n",
        "    valid_data.append(img)\n",
        "    valid_labels.append(label)\n",
        "                      \n",
        "# Pneumonia cases        \n",
        "for img in pneumonia_cases:\n",
        "    img = cv2.imread(str(img))\n",
        "    img = cv2.resize(img, (224,224))\n",
        "    if img.shape[2] ==1:\n",
        "        img = np.dstack([img, img, img])\n",
        "    img = cv2.cvtColor(img, cv2.COLOR_BGR2RGB)\n",
        "    img = img.astype(np.float32)/255.\n",
        "    label = to_categorical(1, num_classes=3)\n",
        "    valid_data.append(img)\n",
        "    valid_labels.append(label)\n",
        "\n",
        "# Covid cases        \n",
        "for img in COVID_cases:\n",
        "    img = cv2.imread(str(img))\n",
        "    img = cv2.resize(img, (224,224))\n",
        "    if img.shape[2] ==1:\n",
        "        img = np.dstack([img, img, img])\n",
        "    img = cv2.cvtColor(img, cv2.COLOR_BGR2RGB)\n",
        "    img = img.astype(np.float32)/255.\n",
        "    label = to_categorical(2, num_classes=3)\n",
        "    valid_data.append(img)\n",
        "    valid_labels.append(label)\n",
        "\n",
        "# Convert the list into numpy arrays\n",
        "valid_data = np.array(valid_data)\n",
        "valid_labels = np.array(valid_labels)\n",
        "\n",
        "print(\"Total number of validation examples: \", valid_data.shape)\n",
        "print(\"Total number of labels:\", valid_labels.shape)"
      ],
      "metadata": {
        "id": "CiSgVcDluMrZ"
      },
      "execution_count": null,
      "outputs": []
    },
    {
      "cell_type": "code",
      "source": [
        "# Get the path to the sub-directories\n",
        "test_normal_cases_dir = test_dir / 'NORMAL'\n",
        "test_pneumonia_cases_dir = test_dir / 'PNEUMONIA'\n",
        "test_COVID_cases_dir = test_dir / 'COVID'\n",
        "\n",
        "# Get the list of all the images\n",
        "test_normal_cases = test_normal_cases_dir.glob('*.jpeg')\n",
        "test_pneumonia_cases = test_pneumonia_cases_dir.glob('*.jpeg')\n",
        "test_COVID_cases = test_COVID_cases_dir.glob('*.jpeg')\n",
        "\n",
        "# List that are going to contain validation images data and the corresponding labels\n",
        "test_data = []\n",
        "test_labels = []\n",
        "\n",
        "\n",
        "# Some images are in grayscale while majority of them contains 3 channels. So, if the image is grayscale, we will convert into a image with 3 channels.\n",
        "# We will normalize the pixel values and resizing all the images to 224x224 \n",
        "\n",
        "# Normal cases\n",
        "for img in test_normal_cases:\n",
        " \n",
        "    \n",
        "    img = cv2.imread(str(img))\n",
        "    img = cv2.resize(img, (224,224))\n",
        "    if img.shape[2] ==1:\n",
        "        img = np.dstack([img, img, img])\n",
        "    img = cv2.cvtColor(img, cv2.COLOR_BGR2RGB)\n",
        "    img = img.astype(np.float32)/255.\n",
        "    label = to_categorical(0, num_classes=3)\n",
        "    test_data.append(img)\n",
        "    test_labels.append(label)\n",
        "                      \n",
        "# Pneumonia cases        \n",
        "for img in test_pneumonia_cases:\n",
        "    \n",
        "    img = cv2.imread(str(img))\n",
        "    img = cv2.resize(img, (224,224))\n",
        "    if img.shape[2] ==1:\n",
        "        img = np.dstack([img, img, img])\n",
        "    img = cv2.cvtColor(img, cv2.COLOR_BGR2RGB)\n",
        "    img = img.astype(np.float32)/255.\n",
        "    label = to_categorical(1, num_classes=3)\n",
        "    test_data.append(img)\n",
        "    test_labels.append(label)\n",
        "\n",
        "# Covid cases        \n",
        "for img in test_COVID_cases:\n",
        "    \n",
        "    img = cv2.imread(str(img))\n",
        "    img = cv2.resize(img, (224,224))\n",
        "    if img.shape[2] ==1:\n",
        "        img = np.dstack([img, img, img])\n",
        "    img = cv2.cvtColor(img, cv2.COLOR_BGR2RGB)\n",
        "    img = img.astype(np.float32)/255.\n",
        "    label = to_categorical(2, num_classes=3)\n",
        "    test_data.append(img)\n",
        "    test_labels.append(label)   \n",
        "    \n",
        "# Convert the list into numpy arrays\n",
        "test_data = np.array(test_data)\n",
        "test_labels = np.array(test_labels)\n",
        "\n",
        "print(\"Total number of Testing examples: \", test_data.shape)\n",
        "print(\"Total number of labels:\", test_labels.shape)"
      ],
      "metadata": {
        "id": "3mOPRzQJuM0N"
      },
      "execution_count": null,
      "outputs": []
    },
    {
      "cell_type": "code",
      "source": [
        "# Get the path to the sub-directories\n",
        "train_normal_cases_dir = train_dir / 'NORMAL'\n",
        "train_pneumonia_cases_dir = train_dir / 'PNEUMONIA'\n",
        "train_COVID_cases_dir = train_dir / 'COVID'\n",
        "\n",
        "# Get the list of all the images\n",
        "train_normal_cases = train_normal_cases_dir.glob('*.jpeg')\n",
        "train_pneumonia_cases = train_pneumonia_cases_dir.glob('*.jpeg')\n",
        "train_COVID_cases = train_COVID_cases_dir.glob('*.jpeg')\n",
        "\n",
        "# List that are going to contain validation images data and the corresponding labels\n",
        "train_data = []\n",
        "train_labels = []\n",
        "\n",
        "\n",
        "# Some images are in grayscale while majority of them contains 3 channels. So, if the image is grayscale, we will convert into a image with 3 channels.\n",
        "# We will normalize the pixel values and resizing all the images to 224x224 \n",
        "\n",
        "# Normal cases\n",
        "for img in train_normal_cases:\n",
        " \n",
        "    \n",
        "    img = cv2.imread(str(img))\n",
        "    img = cv2.resize(img, (224,224))\n",
        "    if img.shape[2] ==1:\n",
        "        img = np.dstack([img, img, img])\n",
        "    img = cv2.cvtColor(img, cv2.COLOR_BGR2RGB)\n",
        "    img = img.astype(np.float32)/255.\n",
        "    label = to_categorical(0, num_classes=3)\n",
        "    train_data.append(img)\n",
        "    train_labels.append(label)\n",
        "                      \n",
        "# Pneumonia cases        \n",
        "for img in train_pneumonia_cases:\n",
        "    \n",
        "    img = cv2.imread(str(img))\n",
        "    img = cv2.resize(img, (224,224))\n",
        "    if img.shape[2] ==1:\n",
        "        img = np.dstack([img, img, img])\n",
        "    img = cv2.cvtColor(img, cv2.COLOR_BGR2RGB)\n",
        "    img = img.astype(np.float32)/255.\n",
        "    label = to_categorical(1, num_classes=3)\n",
        "    train_data.append(img)\n",
        "    train_labels.append(label)\n",
        "\n",
        "# Covid cases        \n",
        "for img in train_COVID_cases:\n",
        "    \n",
        "    img = cv2.imread(str(img))\n",
        "    img = cv2.resize(img, (224,224))\n",
        "    if img.shape[2] ==1:\n",
        "        img = np.dstack([img, img, img])\n",
        "    img = cv2.cvtColor(img, cv2.COLOR_BGR2RGB)\n",
        "    img = img.astype(np.float32)/255.\n",
        "    label = to_categorical(2, num_classes=3)\n",
        "    train_data.append(img)\n",
        "    train_labels.append(label)   \n",
        "    \n",
        "# Convert the list into numpy arrays\n",
        "train_data = np.array(train_data)\n",
        "train_labels = np.array(train_labels)\n",
        "\n",
        "print(\"Total number of training examples: \", train_data.shape)\n",
        "print(\"Total number of labels:\", train_labels.shape)"
      ],
      "metadata": {
        "id": "1FoVdCQQuM9C"
      },
      "execution_count": null,
      "outputs": []
    },
    {
      "cell_type": "code",
      "source": [
        "# Augmentation sequence \n",
        "seq = iaa.OneOf([\n",
        "    iaa.Fliplr(), # horizontal flips\n",
        "    iaa.Affine(rotate=20), # roatation\n",
        "    iaa.Multiply((1.2, 1.5))]) #random brightness"
      ],
      "metadata": {
        "id": "j6bcjl1quNEi"
      },
      "execution_count": null,
      "outputs": []
    },
    {
      "cell_type": "code",
      "source": [
        "def data_gen(data, batch_size):\n",
        "    # Get total number of samples in the data\n",
        "    n = len(data)\n",
        "    steps = n//batch_size\n",
        "    \n",
        "    # Define two numpy arrays for containing batch data and labels\n",
        "    batch_data = np.zeros((batch_size, 224, 224, 3), dtype=np.float32)\n",
        "    batch_labels = np.zeros((batch_size,3), dtype=np.float32)\n",
        "\n",
        "    # Get a numpy array of all the indices of the input data\n",
        "    indices = np.arange(n)\n",
        "    \n",
        "    # Initialize a counter\n",
        "    i =0\n",
        "    while True:\n",
        "        np.random.shuffle(indices)\n",
        "        # Get the next batch \n",
        "        count = 0\n",
        "        next_batch = indices[(i*batch_size):(i+1)*batch_size]\n",
        "        for j, idx in enumerate(next_batch):\n",
        "            img_name = data.iloc[idx]['image']\n",
        "            label = data.iloc[idx]['label']\n",
        "            \n",
        "            # one hot encoding\n",
        "            encoded_label = to_categorical(label, num_classes=2)\n",
        "            # read the image and resize\n",
        "            img = cv2.imread(str(img_name))\n",
        "            img = cv2.resize(img, (224,224))\n",
        "            \n",
        "            # check if it's grayscale\n",
        "            if img.shape[2]==1:\n",
        "                img = np.dstack([img, img, img])\n",
        "            \n",
        "            # cv2 reads in BGR mode by default\n",
        "            orig_img = cv2.cvtColor(img, cv2.COLOR_BGR2RGB)\n",
        "            # normalize the image pixels\n",
        "            orig_img = img.astype(np.float32)/255.\n",
        "            \n",
        "            batch_data[count] = orig_img\n",
        "            batch_labels[count] = encoded_label\n",
        "            \n",
        "            # generating more samples of the undersampled class\n",
        "            if label==0 and count < batch_size-2:\n",
        "                aug_img1 = seq.augment_image(img)\n",
        "                aug_img2 = seq.augment_image(img)\n",
        "                aug_img1 = cv2.cvtColor(aug_img1, cv2.COLOR_BGR2RGB)\n",
        "                aug_img2 = cv2.cvtColor(aug_img2, cv2.COLOR_BGR2RGB)\n",
        "                aug_img1 = aug_img1.astype(np.float32)/255.\n",
        "                aug_img2 = aug_img2.astype(np.float32)/255.\n",
        "\n",
        "                batch_data[count+1] = aug_img1\n",
        "                batch_labels[count+1] = encoded_label\n",
        "                batch_data[count+2] = aug_img2\n",
        "                batch_labels[count+2] = encoded_label\n",
        "                count +=2\n",
        "            \n",
        "            else:\n",
        "                count+=1\n",
        "            \n",
        "            if count==batch_size-1:\n",
        "                break\n",
        "            \n",
        "        i+=1\n",
        "        yield batch_data, batch_labels\n",
        "            \n",
        "        if i>=steps:\n",
        "            i=0"
      ],
      "metadata": {
        "id": "UFYtYMDsuNLn"
      },
      "execution_count": null,
      "outputs": []
    },
    {
      "cell_type": "code",
      "source": [
        "batch_size = 16\n",
        "nb_epochs = 10\n",
        "\n",
        "testing_batch_size = 4\n",
        "testing_nb_epochs = 5\n",
        "# Get a train data generator\n",
        "train_data_gen = data_gen(data=train_data, batch_size=batch_size)\n",
        "# Get a val data generator\n",
        "val_data_gen = data_gen(data=valid_data, batch_size=batch_size)\n",
        "\n",
        "# Get a test data generator\n",
        "test_data_gen = data_gen(data=test_data, batch_size=testing_batch_size)\n",
        "\n",
        "# Define the number of training steps\n",
        "nb_train_steps = train_data.shape[0]//batch_size\n",
        "# Define the number of validating steps\n",
        "nb_val_steps = valid_data.shape[0]//batch_size\n",
        "\n",
        "# Define the number of testing steps\n",
        "nb_test_steps = test_data.shape[0]//testing_batch_size\n",
        "\n",
        "\n",
        "print(\"Number of training and validation steps: {} and {}\".format(nb_train_steps, len(valid_data)))\n",
        "print(\"Number of testing and validation steps: {} and {}\".format(nb_test_steps, len(valid_data)))"
      ],
      "metadata": {
        "id": "JWZ2dSC6u5Yp"
      },
      "execution_count": null,
      "outputs": []
    },
    {
      "cell_type": "code",
      "source": [
        "#################################################\n",
        "############ Xception&ResNet50V2 MODEL HERE ################\n",
        "#################################################\n",
        "import keras.backend as k\n",
        "k.clear_session() #Clear keras backend \n",
        "try:\n",
        "  os.mkdir('models')\n",
        "except:\n",
        "  pass\n",
        "full_name='concatenate'\n",
        "classes_number=3 #Number of classes\n",
        "input_tensor=Input(shape=(224,224,3))\n",
        "######################################################################################################\n",
        "base_model1 = Xception(weights='imagenet', include_top=False, input_tensor=input_tensor)\n",
        "features1 = base_model1.output\n",
        "######################################################################################################\n",
        "base_model2 = ResNet50V2(weights='imagenet', include_top=False, input_tensor=input_tensor)\n",
        "features2 = base_model2.output\n",
        "concatenated=keras.layers.concatenate([features1,features2]) #Concatenate the extracted features\n",
        "####################################################################################################\n",
        "conv=keras.layers.Conv2D(1024, (1, 1),padding='same')(concatenated) #add the concatenated features to a convolutional layer\n",
        "feature = Flatten(name='flatten')(conv)\n",
        "dp = Dropout(0.5)(feature) #add dropout\n",
        "preds = Dense(classes_number, activation='softmax', kernel_initializer=RandomNormal(mean=0.0, stddev=0.001))(dp) \n",
        "Concatenated_model = Model(inputs=input_tensor, outputs=preds)\n",
        "#######################################################\n",
        "for layer in Concatenated_model.layers:\n",
        "  layer.trainable = True\n",
        "Concatenated_model.compile(optimizer=optimizers.nadam(lr=0.0001), loss='categorical_crossentropy',metrics=['accuracy'])\n",
        "filepath=\"models/%s-{epoch:02d}-{val_accuracy:.4f}.hdf5\"%full_name \n",
        "checkpoint = ModelCheckpoint(filepath, monitor='val_accuracy', save_best_only=True, mode='max') #creating checkpoint to save the best validation accuracy\n",
        "callbacks_list = [checkpoint]\n",
        "\n",
        "for epoch_num in range(1,9): # This loop applies the 8 phases for training\n",
        "  train_df =pd.read_csv(\"train{}.csv\".format(epoch_num)) #Add data generators for parsing images to the network while training\n",
        "  train_generator = train_datagen.flow_from_dataframe(\n",
        "        dataframe=train_df,\n",
        "        directory='All/All',\n",
        "        x_col=\"filename\",\n",
        "        y_col=\"class\",\n",
        "        target_size=(300, 300),\n",
        "        batch_size=20,\n",
        "        class_mode='categorical',shuffle=True)\n",
        "  validation_generator = test_datagen.flow_from_dataframe(\n",
        "          dataframe=test_df,\n",
        "          directory='All/All',\n",
        "          x_col=\"filename\",\n",
        "          y_col=\"class\",\n",
        "          target_size=(300, 300),\n",
        "          batch_size=20,\n",
        "          class_mode='categorical',shuffle=True)\n",
        "  Concatenated_model.fit_generator(train_generator, epochs=100,validation_data=validation_generator,shuffle=True,callbacks=callbacks_list) #start training\n"
      ],
      "metadata": {
        "id": "yyfiIQeJu4cc"
      },
      "execution_count": null,
      "outputs": []
    },
    {
      "cell_type": "code",
      "source": [
        "print(np.array(train_data).shape)\n",
        "print(np.array(valid_data).shape)\n",
        "print(np.array(valid_labels).shape)"
      ],
      "metadata": {
        "id": "XAHoK4LKu5rq"
      },
      "execution_count": null,
      "outputs": []
    },
    {
      "cell_type": "code",
      "source": [
        "history = model.fit(train_data,train_labels, epochs=nb_epochs, steps_per_epoch=nb_train_steps,validation_data=(valid_data, valid_labels),validation_steps=nb_val_steps,callbacks=callbacks_list)"
      ],
      "metadata": {
        "id": "whBhK6elu6CF"
      },
      "execution_count": null,
      "outputs": []
    },
    {
      "cell_type": "code",
      "source": [
        "Concatenated_model.load_weights(\"/content/gdrive/My Drive/models_details/ConatModel/weights-improvement-04-0.88.hdf5\")"
      ],
      "metadata": {
        "id": "CsGzLRdgvNCL"
      },
      "execution_count": null,
      "outputs": []
    },
    {
      "cell_type": "code",
      "source": [
        "history = model.fit(train_data,train_labels, epochs=nb_epochs, steps_per_epoch=nb_train_steps,validation_data=(valid_data, valid_labels),validation_steps=nb_val_steps,callbacks=callbacks_list)"
      ],
      "metadata": {
        "id": "D4NIwYqLvWQj"
      },
      "execution_count": null,
      "outputs": []
    },
    {
      "cell_type": "code",
      "source": [
        "Concatenated_model.save('chest_classification_model.h5')  # always save your weights after training or during training"
      ],
      "metadata": {
        "id": "IhbYkakbvcGu"
      },
      "execution_count": null,
      "outputs": []
    },
    {
      "cell_type": "code",
      "source": [
        "# Get predictions\n",
        "preds = Concatenated_model.predict(valid_data, batch_size=16)\n",
        "preds = np.argmax(preds, axis=-1)\n",
        "\n",
        "# Original labels\n",
        "orig_test_labels = np.argmax(valid_labels, axis=-1)\n",
        "\n",
        "print(orig_test_labels.shape)\n",
        "print(preds.shape)\n",
        "\n",
        "\n",
        "# Get predictions\n",
        "preds_test = Concatenated_model.predict(test_data, batch_size=16)\n",
        "preds_test = np.argmax(preds_test, axis=-1)\n",
        "\n",
        "# Original labels\n",
        "orig_test_labels_1 = np.argmax(test_labels, axis=-1)\n",
        "\n",
        "# print(orig_test_labels_1.shape)\n",
        "# print(preds_test.shape)\n",
        "######################################################################################################################\n",
        "######################################################################################################################\n",
        "######################################################################################################################\n",
        "######################################################################################################################\n",
        "# Get the confusion matrix\n",
        "cm  = confusion_matrix(orig_test_labels_1, preds_test)\n",
        "print(cm)\n"
      ],
      "metadata": {
        "id": "5W0YGZXjvgay"
      },
      "execution_count": null,
      "outputs": []
    },
    {
      "cell_type": "code",
      "source": [
        "model.load_weights(\"/content/gdrive/My Drive/models_details/chest_model_one/weights-improvement-01-1.00.hdf5\")"
      ],
      "metadata": {
        "id": "nCj3Uv9KvihR"
      },
      "execution_count": null,
      "outputs": []
    },
    {
      "cell_type": "code",
      "source": [
        "# Evaluation on test dataset\n",
        "test_loss, test_score = model.evaluate(test_data, test_labels, batch_size=16)\n",
        "print(\"Loss on test set: \", test_loss)\n",
        "print(\"Accuracy on test set: \", test_score)"
      ],
      "metadata": {
        "id": "hMrqUGPwvopx"
      },
      "execution_count": null,
      "outputs": []
    },
    {
      "cell_type": "code",
      "source": [
        "plt.figure()\n",
        "plot_confusion_matrix(cm,figsize=(12,8), hide_ticks=True, cmap=plt.cm.Blues)\n",
        "plt.xticks(range(2), ['Normal', 'Pneumonia','Covid'], fontsize=16)\n",
        "plt.yticks(range(2), ['Normal', 'Pneumonia','Covid'], fontsize=16)\n",
        "plt.show()"
      ],
      "metadata": {
        "id": "hltq7bZzvpDN"
      },
      "execution_count": null,
      "outputs": []
    },
    {
      "cell_type": "code",
      "source": [
        "from sklearn.metrics import roc_auc_score,roc_curve,accuracy_score,recall_score"
      ],
      "metadata": {
        "id": "uR8MrHI1vpXV"
      },
      "execution_count": null,
      "outputs": []
    },
    {
      "cell_type": "code",
      "source": [
        "plt.plot(history.history['accuracy'], label='acc')\n",
        "plt.plot(history.history['val_accuracy'], label = 'val_accuracy')\n",
        "plt.xlabel('Epoch')\n",
        "plt.ylabel('Accuracy')\n",
        "plt.ylim([0.5, 1])\n",
        "plt.legend(loc='lower right')\n",
        "\n",
        "# test_loss, test_acc = model.evaluate(test_data,  test_labels, verbose=2)\n"
      ],
      "metadata": {
        "id": "dtJUA5OqvprS"
      },
      "execution_count": null,
      "outputs": []
    },
    {
      "cell_type": "code",
      "source": [
        "# plot model performance\n",
        "acc = history.history['accuracy']\n",
        "val_acc = history.history['val_accuracy']\n",
        "loss = history.history['loss']\n",
        "val_loss = history.history['val_loss']\n",
        "epochs_range = range(1, len(history.epoch) + 1)\n",
        "\n",
        "plt.figure(figsize=(15,5))\n",
        "\n",
        "plt.subplot(1, 2, 1)\n",
        "plt.plot(epochs_range, acc, label='Train Set')\n",
        "plt.plot(epochs_range, val_acc, label='Val Set')\n",
        "plt.legend(loc=\"best\")\n",
        "plt.xlabel('Epochs')\n",
        "plt.ylabel('Accuracy')\n",
        "plt.title('Model Accuracy')\n",
        "\n",
        "plt.subplot(1, 2, 2)\n",
        "plt.plot(epochs_range, loss, label='Train Set')\n",
        "plt.plot(epochs_range, val_loss, label='Val Set')\n",
        "plt.legend(loc=\"best\")\n",
        "plt.xlabel('Epochs')\n",
        "plt.ylabel('Loss')\n",
        "plt.title('Model Loss')\n",
        "\n",
        "plt.tight_layout()\n",
        "plt.show()"
      ],
      "metadata": {
        "id": "Og2e-Fzfvz9w"
      },
      "execution_count": null,
      "outputs": []
    }
  ]
}