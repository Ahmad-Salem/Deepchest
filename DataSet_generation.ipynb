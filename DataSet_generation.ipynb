{
  "nbformat": 4,
  "nbformat_minor": 0,
  "metadata": {
    "colab": {
      "name": "Test.ipynb",
      "provenance": []
    },
    "kernelspec": {
      "name": "python3",
      "display_name": "Python 3"
    }
  },
  "cells": [
    {
      "cell_type": "code",
      "metadata": {
        "id": "ZJUoxTcQD0Dg",
        "colab_type": "code",
        "colab": {
          "base_uri": "https://localhost:8080/",
          "height": 122
        },
        "outputId": "6baf351a-4fc9-49f2-8928-05826b0b3760"
      },
      "source": [
        "from google.colab import drive\n",
        "drive.mount('/content/gdrive')"
      ],
      "execution_count": null,
      "outputs": [
        {
          "output_type": "stream",
          "text": [
            "Go to this URL in a browser: https://accounts.google.com/o/oauth2/auth?client_id=947318989803-6bn6qk8qdgf4n4g3pfee6491hc0brc4i.apps.googleusercontent.com&redirect_uri=urn%3aietf%3awg%3aoauth%3a2.0%3aoob&scope=email%20https%3a%2f%2fwww.googleapis.com%2fauth%2fdocs.test%20https%3a%2f%2fwww.googleapis.com%2fauth%2fdrive%20https%3a%2f%2fwww.googleapis.com%2fauth%2fdrive.photos.readonly%20https%3a%2f%2fwww.googleapis.com%2fauth%2fpeopleapi.readonly&response_type=code\n",
            "\n",
            "Enter your authorization code:\n",
            "··········\n",
            "Mounted at /content/gdrive\n"
          ],
          "name": "stdout"
        }
      ]
    },
    {
      "cell_type": "code",
      "metadata": {
        "id": "c_tISIO9EAzY",
        "colab_type": "code",
        "colab": {
          "base_uri": "https://localhost:8080/",
          "height": 306
        },
        "outputId": "e6046fed-e109-4a10-eb56-d6519f6ab770"
      },
      "source": [
        "!ls \"/content/gdrive/My Drive/covid\""
      ],
      "execution_count": null,
      "outputs": [
        {
          "output_type": "stream",
          "text": [
            "'covid (10).jpeg'  'covid (17).jpg'   'covid (25).jpeg'  'covid (3).png'\n",
            "'covid (10).jpg'   'covid (18).jpeg'  'covid (26).jpeg'  'covid (4).jpeg'\n",
            "'covid (10).png'   'covid (18).jpg'   'covid (27).jpeg'  'covid (4).jpg'\n",
            "'covid (11).jpeg'  'covid (19).jpeg'  'covid (28).jpeg'  'covid (4).png'\n",
            "'covid (11).jpg'   'covid (19).jpg'   'covid (29).jpeg'  'covid (5).jpeg'\n",
            "'covid (11).png'   'covid (1).jpeg'   'covid (2).jpeg'\t 'covid (5).jpg'\n",
            "'covid (12).jpeg'  'covid (1).jpg'    'covid (2).jpg'\t 'covid (5).png'\n",
            "'covid (12).jpg'   'covid (1).png'    'covid (2).png'\t 'covid (6).jpeg'\n",
            "'covid (13).jpeg'  'covid (20).jpeg'  'covid (30).jpeg'  'covid (6).jpg'\n",
            "'covid (13).jpg'   'covid (20).jpg'   'covid (31).jpeg'  'covid (6).png'\n",
            "'covid (14).jpeg'  'covid (21).jpeg'  'covid (32).jpeg'  'covid (7).jpeg'\n",
            "'covid (14).jpg'   'covid (21).jpg'   'covid (33).jpeg'  'covid (7).jpg'\n",
            "'covid (15).jpeg'  'covid (22).jpeg'  'covid (34).jpeg'  'covid (7).png'\n",
            "'covid (15).jpg'   'covid (22).jpg'   'covid (35).jpeg'  'covid (8).jpeg'\n",
            "'covid (16).jpeg'  'covid (23).jpeg'  'covid (36).jpeg'  'covid (8).jpg'\n",
            "'covid (16).jpg'   'covid (23).jpg'   'covid (3).jpeg'\t 'covid (8).png'\n",
            "'covid (17).jpeg'  'covid (24).jpeg'  'covid (3).jpg'\t 'covid (9).jpeg'\n"
          ],
          "name": "stdout"
        }
      ]
    },
    {
      "cell_type": "code",
      "metadata": {
        "id": "7pJnhXZsIM-a",
        "colab_type": "code",
        "colab": {}
      },
      "source": [
        "from keras.preprocessing.image import ImageDataGenerator, img_to_array, load_img\n",
        "from skimage.io import imread, imshow\n",
        "import matplotlib.pyplot as plt\n",
        "import cv2\n",
        "import os\n",
        "import glob\n",
        "\n",
        "datagen = ImageDataGenerator(\n",
        "      horizontal_flip=True,\n",
        "      vertical_flip=True,\n",
        "        rotation_range=360,\n",
        "        width_shift_range=0.05,\n",
        "        height_shift_range=0.05,\n",
        "        shear_range=0,\n",
        "        zoom_range=0.05,\n",
        "        fill_mode='nearest')  #Try other fill modes, e.g. nearest, reflect, wrap\n",
        "\n",
        "\n",
        "img_dir = \"/content/gdrive/My Drive/covid\" # Enter Directory of all images\n",
        "data_path = os.path.join(img_dir,'*g')\n",
        "files = glob.glob(data_path)\n",
        "data = []\n",
        "i=0\n",
        "names = [os.path.basename(x) for x in glob.glob(data_path)]\n",
        "\n",
        "for f1 in files:\n",
        "  ############################\n",
        "  #Single image augmentation for demonstration purposes\n",
        "  img = imread(f1)\n",
        "  # uses Pillow in the backend, so need to convert to array\n",
        "\n",
        "  x = img_to_array(img)  # this is a Numpy array with shape (3, 150, 150)\n",
        "  x = x.reshape((1,) + x.shape)  # this is a Numpy array with shape (1, 3, 150, 150)\n",
        "\n",
        "  # the .flow() command below generates batches of randomly transformed images\n",
        "  # and saves the results to the `preview/` directory\n",
        "  i = 0\n",
        "  for batch in datagen.flow(x, batch_size=1,\n",
        "                            save_to_dir='/content/gdrive/My Drive/DataSet/combined_chest_pn_covid/val/COVID', save_prefix='aug_covid', save_format='jpeg'):\n",
        "      i += 1\n",
        "      if i > 1:\n",
        "          break  # otherwise the generator would loop indefinitely"
      ],
      "execution_count": null,
      "outputs": []
    },
    {
      "cell_type": "code",
      "metadata": {
        "id": "StN1RdqrLnj0",
        "colab_type": "code",
        "colab": {
          "base_uri": "https://localhost:8080/",
          "height": 34
        },
        "outputId": "3e636e2d-a12d-4939-972b-d962093929bb"
      },
      "source": [
        "from skimage.io import imread, imshow\n",
        "import matplotlib.pyplot as plt\n",
        "import cv2\n",
        "import os\n",
        "import glob\n",
        "#get count\n",
        "img_dir = \"/content/gdrive/My Drive/DataSet/combined_chest_pn_covid/val/COVID\" # Enter Directory of all images\n",
        "data_path = os.path.join(img_dir,'*g')\n",
        "files = glob.glob(data_path)\n",
        "data = []\n",
        "i=0\n",
        "names = [os.path.basename(x) for x in glob.glob(data_path)]\n",
        "\n",
        "for f1 in files:\n",
        "  i=i+1\n",
        "\n",
        "print(i)"
      ],
      "execution_count": null,
      "outputs": [
        {
          "output_type": "stream",
          "text": [
            "8\n"
          ],
          "name": "stdout"
        }
      ]
    }
  ]
}